{
 "cells": [
  {
   "cell_type": "code",
   "execution_count": 70,
   "metadata": {},
   "outputs": [],
   "source": [
    "import requests\n",
    "import urllib.request\n",
    "from bs4 import BeautifulSoup as bs\n",
    "import time"
   ]
  },
  {
   "cell_type": "code",
   "execution_count": 66,
   "metadata": {},
   "outputs": [],
   "source": [
    "#num = 1\n",
    "url = 'https://nces.ed.gov/ccd/schooLSearch/school_list.asp?Search=1&State=37&SchoolType=1&SchoolType=2&SchoolType=3&SchoolType=4&SpecificSchlTypes=all&IncGrade=-1&LoGrade=-1&HiGrade=-1&SchoolPageNum=1'"
   ]
  },
  {
   "cell_type": "code",
   "execution_count": 67,
   "metadata": {},
   "outputs": [],
   "source": [
    "#https://www.whoishostingthis.com/tools/user-agent/\n",
    "headers = {'User-agent': 'Mozilla/5.0 (Macintosh; Intel Mac OS X 10_14_5) AppleWebKit/605.1.15 (KHTML, like Gecko) Version/12.1.1 Safari/605.1.15'}"
   ]
  },
  {
   "cell_type": "code",
   "execution_count": null,
   "metadata": {},
   "outputs": [],
   "source": []
  },
  {
   "cell_type": "code",
   "execution_count": 68,
   "metadata": {},
   "outputs": [],
   "source": [
    "response = requests.get(url, headers = headers)"
   ]
  },
  {
   "cell_type": "code",
   "execution_count": 69,
   "metadata": {},
   "outputs": [
    {
     "data": {
      "text/plain": [
       "200"
      ]
     },
     "execution_count": 69,
     "metadata": {},
     "output_type": "execute_result"
    }
   ],
   "source": [
    "response.status_code"
   ]
  },
  {
   "cell_type": "code",
   "execution_count": 11,
   "metadata": {},
   "outputs": [],
   "source": [
    "soup = bs(response.content, 'html.parser')"
   ]
  },
  {
   "cell_type": "code",
   "execution_count": 60,
   "metadata": {},
   "outputs": [],
   "source": [
    "school_tag = soup.find_all(\"font\", {\"face\": \"Times\"})"
   ]
  },
  {
   "cell_type": "code",
   "execution_count": 63,
   "metadata": {},
   "outputs": [
    {
     "name": "stdout",
     "output_type": "stream",
     "text": [
      "A G Cox Middle2657 Church Street, Winterville, NC 28590\n",
      "A H Snipes Academy of Arts/Des2150 Chestnut Street, Wilmington, NC 28405\n",
      "A L Brown High415 E 1st Street, Kannapolis, NC 28083\n",
      "A L Stanback Middle3700 NC 86 South, Hillsborough, NC 27278\n",
      "A T Allen Elementary3939 Abilene Rd, Concord, NC 28025\n",
      "A.C.E. Academy7807 Caldwell Road, Harrisburg, NC 28075\n",
      "Abbotts Creek Elementary9900 Durant Road, Raleigh, NC 27614\n",
      "Aberdeen Elementary503 Sandhills Blvd N, Aberdeen, NC 28315\n",
      "Aberdeen Primary310 Keyser St, Aberdeen, NC 28315\n",
      "ABSS Early College at ACCPO Box 8000, Graham, NC 27253\n",
      "Academy at Smith2225 South Holden Road, Greensboro, NC 27407\n",
      "Acme Delco ElementaryPO Box 704, Riegelwood, NC 28456\n",
      "Acme Delco MiddlePO Box 40, Delco, NC 28436\n",
      "Adams Elementary805 Cary Towne Blvd, Cary, NC 27511\n",
      "AdVance Academy219 Charles Street, Henderson, NC 27536\n"
     ]
    }
   ],
   "source": [
    "for tag in school_tag:\n",
    "    print(tag.getText())"
   ]
  },
  {
   "cell_type": "code",
   "execution_count": 76,
   "metadata": {},
   "outputs": [
    {
     "name": "stdout",
     "output_type": "stream",
     "text": [
      "/surveys/npsas/\n"
     ]
    }
   ],
   "source": [
    "soup.find_all('a')\n",
    "one_a_tag = soup.find_all('a')[25]\n",
    "name = one_a_tag['href']\n",
    "print(name)"
   ]
  },
  {
   "cell_type": "code",
   "execution_count": null,
   "metadata": {},
   "outputs": [],
   "source": []
  }
 ],
 "metadata": {
  "kernelspec": {
   "display_name": "Python 3",
   "language": "python",
   "name": "python3"
  },
  "language_info": {
   "codemirror_mode": {
    "name": "ipython",
    "version": 3
   },
   "file_extension": ".py",
   "mimetype": "text/x-python",
   "name": "python",
   "nbconvert_exporter": "python",
   "pygments_lexer": "ipython3",
   "version": "3.7.4"
  }
 },
 "nbformat": 4,
 "nbformat_minor": 2
}
